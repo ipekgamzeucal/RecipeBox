{
 "cells": [
  {
   "cell_type": "code",
   "execution_count": 2,
   "id": "19c4bf6b",
   "metadata": {},
   "outputs": [
    {
     "data": {
      "text/html": [
       "<div>\n",
       "<style scoped>\n",
       "    .dataframe tbody tr th:only-of-type {\n",
       "        vertical-align: middle;\n",
       "    }\n",
       "\n",
       "    .dataframe tbody tr th {\n",
       "        vertical-align: top;\n",
       "    }\n",
       "\n",
       "    .dataframe thead th {\n",
       "        text-align: right;\n",
       "    }\n",
       "</style>\n",
       "<table border=\"1\" class=\"dataframe\">\n",
       "  <thead>\n",
       "    <tr style=\"text-align: right;\">\n",
       "      <th></th>\n",
       "      <th>id</th>\n",
       "      <th>name</th>\n",
       "    </tr>\n",
       "  </thead>\n",
       "  <tbody>\n",
       "    <tr>\n",
       "      <th>0</th>\n",
       "      <td>34382</td>\n",
       "      <td>mashed red potatoes with garlic and parmesan</td>\n",
       "    </tr>\n",
       "    <tr>\n",
       "      <th>1</th>\n",
       "      <td>106251</td>\n",
       "      <td>roasted cauliflower   16 roasted cloves of garlic</td>\n",
       "    </tr>\n",
       "    <tr>\n",
       "      <th>2</th>\n",
       "      <td>105726</td>\n",
       "      <td>kittencal s parmesan garlic bread or garlic toast</td>\n",
       "    </tr>\n",
       "    <tr>\n",
       "      <th>3</th>\n",
       "      <td>129040</td>\n",
       "      <td>peanut butter no bake cookies</td>\n",
       "    </tr>\n",
       "    <tr>\n",
       "      <th>4</th>\n",
       "      <td>100727</td>\n",
       "      <td>thick  soft  and chewy chocolate chip cookies</td>\n",
       "    </tr>\n",
       "  </tbody>\n",
       "</table>\n",
       "</div>"
      ],
      "text/plain": [
       "       id                                               name\n",
       "0   34382       mashed red potatoes with garlic and parmesan\n",
       "1  106251  roasted cauliflower   16 roasted cloves of garlic\n",
       "2  105726  kittencal s parmesan garlic bread or garlic toast\n",
       "3  129040                      peanut butter no bake cookies\n",
       "4  100727      thick  soft  and chewy chocolate chip cookies"
      ]
     },
     "execution_count": 2,
     "metadata": {},
     "output_type": "execute_result"
    }
   ],
   "source": [
    "import pandas as pd\n",
    "import ast\n",
    "\n",
    "recipe_id = 59346 #buraya önceki sayfadan tıklanan recipe_id atanmalıdır. 59346 deneme için kullanıldı\n",
    "\n",
    "#Item based için çıkarılan 6şar öneriden, önerilerde kendisi varsa veya \n",
    "#corelasyonu NaN, negatifse elenerek yeni bir kolona(recom_dict) atandı.\n",
    "#Bu yeni veri item_based_updated.csv olarak kaydedildi. Item based önerile için bu veri kullanılacaktır.\n",
    "item_based_recom=pd.read_csv('item_based_updated.csv') #buradaki path proje dosyasına göre düzeltilmelidir.\n",
    "\n",
    "filtered_recom = item_based_recom[item_based_recom.recipe_id == recipe_id]\n",
    "\n",
    "#Öneri hiç yoksa bi yazı yazdırabiliriz. Yazıya karar verelim\n",
    "if filtered_recom.recipe_dict.isnull().any(): \n",
    "    print(\"Bu tarifi beğenenler çok fazla tarif beğenmemiş :)\")\n",
    "else: #Öneri varsa idlerini ve isimlerini recom_df adında bir dataframe de tutar.\n",
    "    recipe_dict = ast.literal_eval(filtered_recom.recipe_dict.iloc[0])\n",
    "    recom_df = pd.DataFrame(list(recipe_dict.items()), columns=['id', 'name'])\n",
    "\n",
    "recom_df #recom_df kullanılarak item based öneriler ekranda gösterilebilir"
   ]
  }
 ],
 "metadata": {
  "kernelspec": {
   "display_name": "Python 3",
   "language": "python",
   "name": "python3"
  },
  "language_info": {
   "codemirror_mode": {
    "name": "ipython",
    "version": 3
   },
   "file_extension": ".py",
   "mimetype": "text/x-python",
   "name": "python",
   "nbconvert_exporter": "python",
   "pygments_lexer": "ipython3",
   "version": "3.8.5"
  }
 },
 "nbformat": 4,
 "nbformat_minor": 5
}
