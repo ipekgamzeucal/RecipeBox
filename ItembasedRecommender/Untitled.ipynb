{
 "cells": [
  {
   "cell_type": "code",
   "execution_count": 1,
   "id": "abd9fff6",
   "metadata": {},
   "outputs": [
    {
     "name": "stdout",
     "output_type": "stream",
     "text": [
      "ItemBasedRecoms.csv           item-based-recommender.ipynb\r\n",
      "Untitled.ipynb\r\n"
     ]
    }
   ],
   "source": [
    "ls"
   ]
  },
  {
   "cell_type": "code",
   "execution_count": 1,
   "id": "d981e5d1",
   "metadata": {},
   "outputs": [],
   "source": [
    "import pandas as pd\n",
    "import numpy as np\n",
    "import ast\n",
    "pd.set_option('max_colwidth', 300)"
   ]
  },
  {
   "cell_type": "code",
   "execution_count": 292,
   "id": "b11cf741",
   "metadata": {},
   "outputs": [],
   "source": [
    "#functions : bunlar RecipeBox.py de diğer fonksiyonlarla birlikte ilk anda çalıştırılmalı\n",
    "def remove_recipe(row):\n",
    "    recom_ids = row['recom_ids']\n",
    "    recom_names = row['recom_names']\n",
    "    recom_corrs = row['recom_corrs']\n",
    "    \n",
    "    new_recom_ids,new_recom_names,new_recom_corrs = [],[],[]\n",
    "    \n",
    "    for id, name, corr in zip(recom_ids, recom_names, recom_corrs):\n",
    "        if id not in recom_ids:\n",
    "            if pd.notnull(corr) and corr > 0:\n",
    "                new_recom_ids.append(id)\n",
    "                new_recom_names.append(name)\n",
    "                new_recom_corrs.append(corr)\n",
    "    \n",
    "    return new_recom_ids, new_recom_names, new_recom_corrs\n",
    "\n",
    "\n",
    "def convert_to_float(value):\n",
    "    try:\n",
    "        return float(value)\n",
    "    except ValueError:\n",
    "        return np.nan"
   ]
  },
  {
   "cell_type": "code",
   "execution_count": 302,
   "id": "151262d4",
   "metadata": {},
   "outputs": [],
   "source": [
    "item_based_df=pd.read_csv('ItemBasedRecoms.csv')"
   ]
  },
  {
   "cell_type": "code",
   "execution_count": 303,
   "id": "18debdfe",
   "metadata": {},
   "outputs": [],
   "source": [
    "item_based_updated = pd.DataFrame()\n",
    "\n",
    "for index, row in item_based_df.iterrows():\n",
    "    recipe_id = row['recipe_id']\n",
    "    filtered_item = item_based_df[item_based_df.recipe_id == recipe_id].copy()\n",
    "    filtered_item['recom_ids'] = filtered_item['recom_ids'].str.strip(\"[]\").str.split(\", \")\n",
    "    filtered_item['recom_names'] = filtered_item['recom_names'].str.strip(\"[]\").str.split(\", \")\n",
    "    filtered_item['recom_corrs'] = filtered_item['recom_corrs'].str.strip(\"[]\").str.split(\", \").apply(lambda x: [convert_to_float(val) if val != 'NaN' else np.nan for val in x])\n",
    "\n",
    "    new_recom_ids = []\n",
    "    new_recom_names = []\n",
    "    new_recom_corrs = []\n",
    "\n",
    "    for ids, names, corrs in zip(filtered_item['recom_ids'], filtered_item['recom_names'], filtered_item['recom_corrs']):\n",
    "        new_ids = []\n",
    "        new_names = []\n",
    "        new_corrs = []\n",
    "        for id, name, corr in zip(ids, names, corrs):\n",
    "            if not pd.isnull(corr) and float(corr) > 0 and id != recipe_id:\n",
    "                new_ids.append(id)\n",
    "                new_names.append(name.strip(\"'\"))\n",
    "                new_corrs.append(corr)\n",
    "        new_recom_ids.append(new_ids)\n",
    "        new_recom_names.append(new_names)\n",
    "        new_recom_corrs.append(new_corrs)\n",
    "\n",
    "    filtered_item['recom_ids'] = new_recom_ids\n",
    "    filtered_item['recom_names'] = new_recom_names\n",
    "    filtered_item['recom_corrs'] = new_recom_corrs\n",
    "\n",
    "    recipe_dict = {}\n",
    "    for ids, names in zip(filtered_item['recom_ids'], filtered_item['recom_names']):\n",
    "        for id, name in zip(ids, names):\n",
    "            recipe_dict[int(id)] = name\n",
    "\n",
    "    if recipe_id in recipe_dict:\n",
    "        del recipe_dict[recipe_id]\n",
    "\n",
    "    filtered_item['recipe_dict'] = [recipe_dict] * len(filtered_item)\n",
    "    item_based_updated = pd.concat([item_based_updated, filtered_item], ignore_index=True)"
   ]
  },
  {
   "cell_type": "code",
   "execution_count": 307,
   "id": "52c2968d",
   "metadata": {},
   "outputs": [
    {
     "data": {
      "text/html": [
       "<div>\n",
       "<style scoped>\n",
       "    .dataframe tbody tr th:only-of-type {\n",
       "        vertical-align: middle;\n",
       "    }\n",
       "\n",
       "    .dataframe tbody tr th {\n",
       "        vertical-align: top;\n",
       "    }\n",
       "\n",
       "    .dataframe thead th {\n",
       "        text-align: right;\n",
       "    }\n",
       "</style>\n",
       "<table border=\"1\" class=\"dataframe\">\n",
       "  <thead>\n",
       "    <tr style=\"text-align: right;\">\n",
       "      <th></th>\n",
       "      <th>recipe_id</th>\n",
       "      <th>recom_ids</th>\n",
       "      <th>recom_names</th>\n",
       "      <th>recom_corrs</th>\n",
       "      <th>recipe_dict</th>\n",
       "    </tr>\n",
       "  </thead>\n",
       "  <tbody>\n",
       "    <tr>\n",
       "      <th>0</th>\n",
       "      <td>25775</td>\n",
       "      <td>[103572, 57772, 49387, 128956, 73033, 90485]</td>\n",
       "      <td>[crock pot black bean salsa chicken  oamc, mexican stuffed shells  oamc, oven fried eggplant  aubergine, ww 0 point weight watchers cabbage soup, allrighty then scrambled eggs   paula deen, balsamic chicken with garlic couscous]</td>\n",
       "      <td>[1.0, 1.0, 1.0, 1.0, 1.0, 1.0]</td>\n",
       "      <td>{103572: 'crock pot black bean salsa chicken  oamc', 57772: 'mexican stuffed shells  oamc', 49387: 'oven fried eggplant  aubergine', 128956: 'ww 0 point weight watchers cabbage soup', 73033: 'allrighty then scrambled eggs   paula deen', 90485: 'balsamic chicken with garlic couscous'}</td>\n",
       "    </tr>\n",
       "    <tr>\n",
       "      <th>1</th>\n",
       "      <td>22526</td>\n",
       "      <td>[251220, 56846, 84104, 83524, 83506, 21688]</td>\n",
       "      <td>[kittencal s fluffiest scrambled eggs, i hate ricotta meat   2 cheese stuffed shells, spicy hasselback potatoes, frizzled cabbage, sharon s ono barbecue beef, cabbage beef casserole]</td>\n",
       "      <td>[1.0, 1.0, 1.0, 1.0, 1.0, 1.0]</td>\n",
       "      <td>{251220: 'kittencal s fluffiest scrambled eggs', 56846: 'i hate ricotta meat   2 cheese stuffed shells', 84104: 'spicy hasselback potatoes', 83524: 'frizzled cabbage', 83506: 'sharon s ono barbecue beef', 21688: 'cabbage beef casserole'}</td>\n",
       "    </tr>\n",
       "    <tr>\n",
       "      <th>2</th>\n",
       "      <td>74805</td>\n",
       "      <td>[34382, 150863, 110683, 3370, 207872, 111734]</td>\n",
       "      <td>[mashed red potatoes with garlic and parmesan, panera s cream cheese potato soup, basic batter waffles, french toast ii, baked seasoned salmon, easy pizza pasta casserole  oamc]</td>\n",
       "      <td>[1.0, 1.0, 1.0, 0.9999999999999999, 0.9999999999999999, 0.9999999999999999]</td>\n",
       "      <td>{34382: 'mashed red potatoes with garlic and parmesan', 150863: 'panera s cream cheese potato soup', 110683: 'basic batter waffles', 3370: 'french toast ii', 207872: 'baked seasoned salmon', 111734: 'easy pizza pasta casserole  oamc'}</td>\n",
       "    </tr>\n",
       "  </tbody>\n",
       "</table>\n",
       "</div>"
      ],
      "text/plain": [
       "   recipe_id                                      recom_ids  \\\n",
       "0      25775   [103572, 57772, 49387, 128956, 73033, 90485]   \n",
       "1      22526    [251220, 56846, 84104, 83524, 83506, 21688]   \n",
       "2      74805  [34382, 150863, 110683, 3370, 207872, 111734]   \n",
       "\n",
       "                                                                                                                                                                                                                            recom_names  \\\n",
       "0  [crock pot black bean salsa chicken  oamc, mexican stuffed shells  oamc, oven fried eggplant  aubergine, ww 0 point weight watchers cabbage soup, allrighty then scrambled eggs   paula deen, balsamic chicken with garlic couscous]   \n",
       "1                                                [kittencal s fluffiest scrambled eggs, i hate ricotta meat   2 cheese stuffed shells, spicy hasselback potatoes, frizzled cabbage, sharon s ono barbecue beef, cabbage beef casserole]   \n",
       "2                                                     [mashed red potatoes with garlic and parmesan, panera s cream cheese potato soup, basic batter waffles, french toast ii, baked seasoned salmon, easy pizza pasta casserole  oamc]   \n",
       "\n",
       "                                                                   recom_corrs  \\\n",
       "0                                               [1.0, 1.0, 1.0, 1.0, 1.0, 1.0]   \n",
       "1                                               [1.0, 1.0, 1.0, 1.0, 1.0, 1.0]   \n",
       "2  [1.0, 1.0, 1.0, 0.9999999999999999, 0.9999999999999999, 0.9999999999999999]   \n",
       "\n",
       "                                                                                                                                                                                                                                                                                    recipe_dict  \n",
       "0  {103572: 'crock pot black bean salsa chicken  oamc', 57772: 'mexican stuffed shells  oamc', 49387: 'oven fried eggplant  aubergine', 128956: 'ww 0 point weight watchers cabbage soup', 73033: 'allrighty then scrambled eggs   paula deen', 90485: 'balsamic chicken with garlic couscous'}  \n",
       "1                                                 {251220: 'kittencal s fluffiest scrambled eggs', 56846: 'i hate ricotta meat   2 cheese stuffed shells', 84104: 'spicy hasselback potatoes', 83524: 'frizzled cabbage', 83506: 'sharon s ono barbecue beef', 21688: 'cabbage beef casserole'}  \n",
       "2                                                    {34382: 'mashed red potatoes with garlic and parmesan', 150863: 'panera s cream cheese potato soup', 110683: 'basic batter waffles', 3370: 'french toast ii', 207872: 'baked seasoned salmon', 111734: 'easy pizza pasta casserole  oamc'}  "
      ]
     },
     "execution_count": 307,
     "metadata": {},
     "output_type": "execute_result"
    }
   ],
   "source": [
    "item_based_updated.head(3)"
   ]
  },
  {
   "cell_type": "code",
   "execution_count": 315,
   "id": "39626ff7",
   "metadata": {},
   "outputs": [],
   "source": [
    "item_based_updated.to_csv('item_based_updated.csv', index=False)"
   ]
  },
  {
   "cell_type": "code",
   "execution_count": null,
   "id": "9a4deb42",
   "metadata": {},
   "outputs": [],
   "source": []
  },
  {
   "cell_type": "code",
   "execution_count": 8,
   "id": "b815f740",
   "metadata": {},
   "outputs": [
    {
     "data": {
      "text/html": [
       "<div>\n",
       "<style scoped>\n",
       "    .dataframe tbody tr th:only-of-type {\n",
       "        vertical-align: middle;\n",
       "    }\n",
       "\n",
       "    .dataframe tbody tr th {\n",
       "        vertical-align: top;\n",
       "    }\n",
       "\n",
       "    .dataframe thead th {\n",
       "        text-align: right;\n",
       "    }\n",
       "</style>\n",
       "<table border=\"1\" class=\"dataframe\">\n",
       "  <thead>\n",
       "    <tr style=\"text-align: right;\">\n",
       "      <th></th>\n",
       "      <th>id</th>\n",
       "      <th>name</th>\n",
       "    </tr>\n",
       "  </thead>\n",
       "  <tbody>\n",
       "    <tr>\n",
       "      <th>0</th>\n",
       "      <td>34382</td>\n",
       "      <td>mashed red potatoes with garlic and parmesan</td>\n",
       "    </tr>\n",
       "    <tr>\n",
       "      <th>1</th>\n",
       "      <td>106251</td>\n",
       "      <td>roasted cauliflower   16 roasted cloves of garlic</td>\n",
       "    </tr>\n",
       "    <tr>\n",
       "      <th>2</th>\n",
       "      <td>105726</td>\n",
       "      <td>kittencal s parmesan garlic bread or garlic toast</td>\n",
       "    </tr>\n",
       "    <tr>\n",
       "      <th>3</th>\n",
       "      <td>129040</td>\n",
       "      <td>peanut butter no bake cookies</td>\n",
       "    </tr>\n",
       "    <tr>\n",
       "      <th>4</th>\n",
       "      <td>100727</td>\n",
       "      <td>thick  soft  and chewy chocolate chip cookies</td>\n",
       "    </tr>\n",
       "  </tbody>\n",
       "</table>\n",
       "</div>"
      ],
      "text/plain": [
       "       id                                               name\n",
       "0   34382       mashed red potatoes with garlic and parmesan\n",
       "1  106251  roasted cauliflower   16 roasted cloves of garlic\n",
       "2  105726  kittencal s parmesan garlic bread or garlic toast\n",
       "3  129040                      peanut butter no bake cookies\n",
       "4  100727      thick  soft  and chewy chocolate chip cookies"
      ]
     },
     "execution_count": 8,
     "metadata": {},
     "output_type": "execute_result"
    }
   ],
   "source": [
    "import ast\n",
    "\n",
    "recipe_id = 59346 #buraya önceki sayfadan tıklanan recipe_id atanmalıdır. 59346 deneme için kullanıldı\n",
    "\n",
    "#Item based için çıkarılan 6şar öneriden, önerilerde kendisi varsa veya \n",
    "#corelasyonu NaN, negatifse elenerek yeni bir kolona(recom_dict) atandı.\n",
    "#Bu yeni veri item_based_updated.csv olarak kaydedildi. Item based önerile için bu veri kullanılacaktır.\n",
    "item_based_recom=pd.read_csv('item_based_updated.csv') #buradaki path proje dosyasına göre düzeltilmelidir.\n",
    "\n",
    "filtered_recom = item_based_recom[item_based_recom.recipe_id == recipe_id]\n",
    "\n",
    "#Öneri hiç yoksa bi yazı yazdırabiliriz. Yazıya karar verelim\n",
    "if filtered_recom.recipe_dict.isnull().any(): \n",
    "    print(\"Bu tarifi beğenenler çok fazla tarif beğenmemiş :)\")\n",
    "else: #Öneri varsa idlerini ve isimlerini recom_df adında bir dataframe de tutar.\n",
    "    recipe_dict = ast.literal_eval(filtered_recom.recipe_dict.iloc[0])\n",
    "    recom_df = pd.DataFrame(list(recipe_dict.items()), columns=['id', 'name'])\n",
    "\n",
    "recom_df #recom_df kullanılarak item based öneriler ekranda gösterilebilir"
   ]
  },
  {
   "cell_type": "code",
   "execution_count": null,
   "id": "f56738f4",
   "metadata": {},
   "outputs": [],
   "source": []
  }
 ],
 "metadata": {
  "kernelspec": {
   "display_name": "Python 3",
   "language": "python",
   "name": "python3"
  },
  "language_info": {
   "codemirror_mode": {
    "name": "ipython",
    "version": 3
   },
   "file_extension": ".py",
   "mimetype": "text/x-python",
   "name": "python",
   "nbconvert_exporter": "python",
   "pygments_lexer": "ipython3",
   "version": "3.8.5"
  }
 },
 "nbformat": 4,
 "nbformat_minor": 5
}
